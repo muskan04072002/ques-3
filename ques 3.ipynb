{
 "cells": [
  {
   "cell_type": "code",
   "execution_count": 1,
   "id": "0e9abb86",
   "metadata": {},
   "outputs": [
    {
     "name": "stdout",
     "output_type": "stream",
     "text": [
      "Enter a number : 567\n",
      "765\n"
     ]
    }
   ],
   "source": [
    "#Take a number as input from the user. Print the number in reversed order. For example, for input 567, output should be: 765\n",
    "try:\n",
    "\tn = int(input('Enter a number : '))\n",
    "\treversed = 0\n",
    "\t\n",
    "\twhile(n!=0):\n",
    "\t\tr=int(n%10)\n",
    "\t\treversed = reversed*10 + r\n",
    "\t\tn=int(n/10)\n",
    "\t\t\n",
    "\tprint(reversed)\n",
    "except ValueError:\n",
    "\tprint('Given input is not a number.')"
   ]
  },
  {
   "cell_type": "code",
   "execution_count": null,
   "id": "7d4c4042",
   "metadata": {},
   "outputs": [],
   "source": []
  },
  {
   "cell_type": "code",
   "execution_count": null,
   "id": "cc364f57",
   "metadata": {},
   "outputs": [],
   "source": []
  }
 ],
 "metadata": {
  "kernelspec": {
   "display_name": "Python 3 (ipykernel)",
   "language": "python",
   "name": "python3"
  },
  "language_info": {
   "codemirror_mode": {
    "name": "ipython",
    "version": 3
   },
   "file_extension": ".py",
   "mimetype": "text/x-python",
   "name": "python",
   "nbconvert_exporter": "python",
   "pygments_lexer": "ipython3",
   "version": "3.9.12"
  }
 },
 "nbformat": 4,
 "nbformat_minor": 5
}
